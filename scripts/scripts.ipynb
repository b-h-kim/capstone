{
 "cells": [
  {
   "cell_type": "code",
   "execution_count": 1,
   "id": "253beca0",
   "metadata": {},
   "outputs": [],
   "source": [
    "import pandas as pd\n",
    "import geopandas as gpd\n",
    "import shapely\n",
    "import requests\n",
    "import json\n",
    "import math"
   ]
  },
  {
   "cell_type": "markdown",
   "id": "0dafccc9",
   "metadata": {},
   "source": [
    "## CENSUS Block Group Cartographic Boundary Files"
   ]
  },
  {
   "cell_type": "code",
   "execution_count": 2,
   "id": "5f0d6ea2",
   "metadata": {},
   "outputs": [],
   "source": [
    "# read block group shape-file from CENSUS\n",
    "fips_bg = gpd.read_file('../data/cb_2021_us_all_500k/cb_2021_47_bg_500k/cb_2021_47_bg_500k.shp')"
   ]
  },
  {
   "cell_type": "code",
   "execution_count": 3,
   "id": "5a4b62c8",
   "metadata": {},
   "outputs": [],
   "source": [
    "# Extract TN, Davidson county\n",
    "davidson_fips_bg = fips_bg\\\n",
    "    .loc[fips_bg['COUNTYFP'] == '037']\\\n",
    "    [['GEOID', 'geometry']]"
   ]
  },
  {
   "cell_type": "code",
   "execution_count": 5,
   "id": "d72c1405",
   "metadata": {},
   "outputs": [],
   "source": [
    "# Export to csv\n",
    "davidson_fips_bg.to_csv('../data/davidson_fips_bg.csv')"
   ]
  },
  {
   "cell_type": "markdown",
   "id": "1ffea2e1",
   "metadata": {},
   "source": [
    "## CENSUS Tract Cartographic Boundary Files"
   ]
  },
  {
   "cell_type": "code",
   "execution_count": 6,
   "id": "ca2f349b",
   "metadata": {},
   "outputs": [],
   "source": [
    "# read tract shape-file from CENSUS\n",
    "fips_tract = gpd.read_file('../data/cb_2021_us_all_500k/cb_2021_us_tract_500k/cb_2021_us_tract_500k.shp')"
   ]
  },
  {
   "cell_type": "code",
   "execution_count": 7,
   "id": "63b4e912",
   "metadata": {},
   "outputs": [],
   "source": [
    "# Extract TN, Davidson county\n",
    "davidson_fips_tract = fips_tract\\\n",
    "    .loc[fips_tract['COUNTYFP'] == '037']\\\n",
    "    [['GEOID', 'geometry']]"
   ]
  },
  {
   "cell_type": "code",
   "execution_count": 8,
   "id": "c1934c55",
   "metadata": {},
   "outputs": [],
   "source": [
    "# Export to csv\n",
    "davidson_fips_tract.to_csv('../data/davidson_fips_tract.csv')"
   ]
  },
  {
   "cell_type": "markdown",
   "id": "92fd0967",
   "metadata": {},
   "source": [
    "## Metro Parks Boundaries API\n",
    "Metro park API offered by https://data.nashville.gov/"
   ]
  },
  {
   "cell_type": "code",
   "execution_count": 9,
   "id": "edd76520",
   "metadata": {},
   "outputs": [],
   "source": [
    "# Variables for API query\n",
    "select = 'select=the_geom,name,common_nam,year_estab,status,acres'\n",
    "limit = '&$limit=50000'\n",
    "\n",
    "# Endpoint\n",
    "query_url = f'https://data.nashville.gov/resource/544k-ba3u.geojson?${select}{limit}'"
   ]
  },
  {
   "cell_type": "code",
   "execution_count": 10,
   "id": "fd05d707",
   "metadata": {},
   "outputs": [],
   "source": [
    "# Create gdf\n",
    "parks = gpd.read_file(query_url)"
   ]
  },
  {
   "cell_type": "code",
   "execution_count": 11,
   "id": "06351a49",
   "metadata": {},
   "outputs": [],
   "source": [
    "# Clean up dataframe\n",
    "parks = parks[['name', 'common_nam', 'year_estab', 'status', 'acres', 'geometry']]"
   ]
  },
  {
   "cell_type": "code",
   "execution_count": 12,
   "id": "311fdbb0",
   "metadata": {},
   "outputs": [],
   "source": [
    "# Export to csv\n",
    "parks.to_csv('../data/parks.csv')"
   ]
  },
  {
   "cell_type": "markdown",
   "id": "167b404e",
   "metadata": {},
   "source": [
    "## Spaital Join FIPS + Parks Boundaries"
   ]
  },
  {
   "cell_type": "code",
   "execution_count": 13,
   "id": "897eceff",
   "metadata": {},
   "outputs": [
    {
     "name": "stdout",
     "output_type": "stream",
     "text": [
      "epsg:4269\n",
      "epsg:4269\n"
     ]
    }
   ],
   "source": [
    "# check crs of shape-file\n",
    "print(davidson_fips_bg.crs)\n",
    "print(davidson_fips_tract.crs)"
   ]
  },
  {
   "cell_type": "code",
   "execution_count": 14,
   "id": "1a9bad4b",
   "metadata": {},
   "outputs": [],
   "source": [
    "# Change crs of parks gdf\n",
    "parks = parks.set_crs(epsg = 4269, allow_override = True)"
   ]
  },
  {
   "cell_type": "code",
   "execution_count": 15,
   "id": "62bec0e4",
   "metadata": {},
   "outputs": [],
   "source": [
    "# Spatial join between block group and parks gdf\n",
    "davidson_fips_bg_park = \\\n",
    "    gpd.sjoin(\n",
    "        davidson_fips_bg, parks[['geometry']], \n",
    "        how = 'left', \n",
    "        op = 'intersects')\\\n",
    "    .sort_values('GEOID')\\\n",
    "    .drop(columns = ['geometry'])\\\n",
    "    .rename(columns = {'index_right' : 'park_no'})\n",
    "\n",
    "# clean-up\n",
    "davidson_fips_bg_park['park_no'] = davidson_fips_bg_park['park_no']\\\n",
    "    .astype(str).str.extract('(\\d+).')\n",
    "\n",
    "# Spatial join between block group and parks gdf\n",
    "davidson_fips_tract_park = \\\n",
    "    gpd.sjoin(\n",
    "        davidson_fips_tract, parks[['geometry']], \n",
    "        how = 'left', \n",
    "        op = 'intersects')\\\n",
    "    .sort_values('GEOID')\\\n",
    "    .drop(columns = ['geometry'])\\\n",
    "    .rename(columns = {'index_right' : 'park_no'})\n",
    "\n",
    "# clean-up\n",
    "davidson_fips_tract_park['park_no'] = davidson_fips_tract_park['park_no']\\\n",
    "    .astype(str).str.extract('(\\d+).')"
   ]
  },
  {
   "cell_type": "code",
   "execution_count": 16,
   "id": "0cb63e0f",
   "metadata": {},
   "outputs": [],
   "source": [
    "# Export to csv\n",
    "davidson_fips_bg_park.to_csv('../data/davidson_fips_bg_park.csv')\n",
    "davidson_fips_tract_park.to_csv('../data/davidson_fips_tract_park.csv')"
   ]
  },
  {
   "cell_type": "markdown",
   "id": "04267690",
   "metadata": {},
   "source": [
    "## American Community Survey 5-Year API: Block Group(2013-2021)"
   ]
  },
  {
   "cell_type": "code",
   "execution_count": 17,
   "id": "9c7b4e73",
   "metadata": {},
   "outputs": [],
   "source": [
    "# API key\n",
    "with open('api_key.json') as fi:\n",
    "    credentials = json.load(fi)"
   ]
  },
  {
   "cell_type": "code",
   "execution_count": 18,
   "id": "76351b70",
   "metadata": {},
   "outputs": [],
   "source": [
    "# Import variable list\n",
    "acs5_bg_variables_list = pd.read_csv('../data/acs5_variables.csv')"
   ]
  },
  {
   "cell_type": "code",
   "execution_count": 19,
   "id": "6264ac9a",
   "metadata": {},
   "outputs": [
    {
     "name": "stdout",
     "output_type": "stream",
     "text": [
      "2013\n",
      "2014\n",
      "2015\n",
      "2016\n",
      "2017\n",
      "2018\n",
      "2019\n",
      "2020\n",
      "2021\n"
     ]
    }
   ],
   "source": [
    "# CENSUS API\n",
    "census_api_key = '&key=' + credentials['census']\n",
    "host = 'https://api.census.gov/data'\n",
    "dataset = '/acs/acs5'\n",
    "\n",
    "# Location\n",
    "location = '&for=block%20group:*&in=state:47&in=county:037&in=tract:*'\n",
    "\n",
    "# create empty DataFrame\n",
    "acs5_bg = pd.DataFrame()\n",
    "\n",
    "# for loop year range\n",
    "years = range(2013, 2021+1)\n",
    "\n",
    "for y in years :\n",
    "    # Empty df\n",
    "    temp_all_index = pd.DataFrame()\n",
    "    \n",
    "    # for loop index range\n",
    "    n = range(0, math.trunc(len(acs5_bg_variables_list)/50)+1)\n",
    "    \n",
    "    for n in n :\n",
    "        # set varianles\n",
    "        index_str = ','.join(acs5_bg_variables_list['index'][n*50 : (n+1)*50-1])\n",
    "        variables = '?get=' + index_str \n",
    "\n",
    "         # query\n",
    "        query_url = f\"{host}/{y}{dataset}{variables}{location}{census_api_key}\"\n",
    "\n",
    "        # get response\n",
    "        response = requests.get(query_url)\n",
    "        temp = pd.DataFrame(response.json())\n",
    "\n",
    "        # data clean-up\n",
    "        temp.columns = temp.iloc[0]\n",
    "        temp = temp[1:]\n",
    "        temp['geoid'] = temp['state'].str.cat(temp[['county', 'tract', 'block group']])\n",
    "        temp = temp.drop(columns = ['state', 'county', 'tract', 'block group'])\n",
    "        temp_all_index = pd.concat([temp_all_index, temp], axis = 1, join = 'outer')\n",
    "     \n",
    "    # add year columns\n",
    "    temp_all_index['year'] = y\n",
    "    \n",
    "    # concat all years\n",
    "    acs5_bg = pd.concat([acs5_bg, temp_all_index], axis = 0)\n",
    "    \n",
    "    print(y)"
   ]
  },
  {
   "cell_type": "code",
   "execution_count": 21,
   "id": "7f2c8096",
   "metadata": {},
   "outputs": [],
   "source": [
    "# Update columns name\n",
    "acs5_bg.rename(columns = acs5_bg_variables_list.set_index('index')['label'], inplace = True)"
   ]
  },
  {
   "cell_type": "code",
   "execution_count": 33,
   "id": "f413e43f",
   "metadata": {},
   "outputs": [],
   "source": [
    "acs5_bg = acs5_bg.loc[:, ~acs5_bg.columns.duplicated()]"
   ]
  },
  {
   "cell_type": "code",
   "execution_count": null,
   "id": "df0785d4",
   "metadata": {},
   "outputs": [],
   "source": []
  },
  {
   "cell_type": "code",
   "execution_count": 48,
   "id": "d70c2d8f",
   "metadata": {},
   "outputs": [
    {
     "data": {
      "text/plain": [
       "1      470370169003\n",
       "2      470370169005\n",
       "3      470370188013\n",
       "4      470370191053\n",
       "5      470370191061\n",
       "           ...     \n",
       "483    470370196001\n",
       "484    470370196002\n",
       "485    470370196003\n",
       "486    470379801001\n",
       "487    470379802001\n",
       "Name: geoid, Length: 4285, dtype: object"
      ]
     },
     "execution_count": 48,
     "metadata": {},
     "output_type": "execute_result"
    }
   ],
   "source": [
    "acs5_bg['geoid']"
   ]
  },
  {
   "cell_type": "code",
   "execution_count": 47,
   "id": "5210737b",
   "metadata": {},
   "outputs": [
    {
     "data": {
      "text/plain": [
       "1      47037016900\n",
       "2      47037016900\n",
       "3      47037018801\n",
       "4      47037019105\n",
       "5      47037019106\n",
       "          ...     \n",
       "483    47037019600\n",
       "484    47037019600\n",
       "485    47037019600\n",
       "486    47037980100\n",
       "487    47037980200\n",
       "Name: geoid, Length: 4285, dtype: object"
      ]
     },
     "execution_count": 47,
     "metadata": {},
     "output_type": "execute_result"
    }
   ],
   "source": [
    "acs5_bg['geoid'].str.slice(stop=-1)"
   ]
  },
  {
   "cell_type": "code",
   "execution_count": 38,
   "id": "1c711e4e",
   "metadata": {},
   "outputs": [],
   "source": [
    "# export to csv\n",
    "acs5_bg.to_csv('../data/acs5_bg.csv')"
   ]
  },
  {
   "cell_type": "markdown",
   "id": "dbe00501",
   "metadata": {},
   "source": [
    "## American Community Survey 5-Year API: Tract(2009+2021)"
   ]
  },
  {
   "cell_type": "code",
   "execution_count": 24,
   "id": "4ad9d807",
   "metadata": {},
   "outputs": [],
   "source": [
    "# Import variable list (remove unsupported variables from BG variables list)\n",
    "acs5_tract_variables_list = acs5_bg_variables_list\\\n",
    "            .loc[~acs5_bg_variables_list['index'].str.contains('B09')]\\\n",
    "            .loc[~acs5_bg_variables_list['index'].str.contains('B15')]"
   ]
  },
  {
   "cell_type": "code",
   "execution_count": 25,
   "id": "0b9d87b1",
   "metadata": {},
   "outputs": [
    {
     "name": "stdout",
     "output_type": "stream",
     "text": [
      "2009\n",
      "2010\n",
      "2011\n",
      "2012\n",
      "2013\n",
      "2014\n",
      "2015\n",
      "2016\n",
      "2017\n",
      "2018\n",
      "2019\n",
      "2020\n",
      "2021\n"
     ]
    }
   ],
   "source": [
    "# CENSUS API\n",
    "census_api_key = '&key=' + credentials['census']\n",
    "host = 'https://api.census.gov/data'\n",
    "dataset = '/acs/acs5'\n",
    "\n",
    "# Location\n",
    "location = '&for=tract:*&in=state:47&in=county:037'\n",
    "\n",
    "# create empty DataFrame\n",
    "acs5_tract = pd.DataFrame()\n",
    "\n",
    "# for loop year range\n",
    "years = range(2009, 2021+1)\n",
    "\n",
    "for y in years :\n",
    "    # empty df\n",
    "    temp_all_index = pd.DataFrame()\n",
    "    \n",
    "    # for loop index range\n",
    "    n = range(0, math.trunc(len(acs5_tract_variables_list)/50))\n",
    "\n",
    "    for n in n :\n",
    "        # set varianles\n",
    "        index_str = ','.join(acs5_tract_variables_list['index'][n*50 : n*50+49])\n",
    "        variables = '?get=' + index_str \n",
    "\n",
    "         # query\n",
    "        query_url = f\"{host}/{y}{dataset}{variables}{location}{census_api_key}\"\n",
    "\n",
    "        # get response\n",
    "        response = requests.get(query_url)\n",
    "        temp = pd.DataFrame(response.json())\n",
    "\n",
    "        # data clean-up\n",
    "        temp.columns = temp.iloc[0]\n",
    "        temp = temp[1:]\n",
    "        temp['geoid'] = temp['state'].str.cat(temp[['county', 'tract']])\n",
    "        temp = temp.drop(columns = ['state', 'county', 'tract'])\n",
    "        temp_all_index = pd.concat([temp_all_index, temp], axis = 1, join = 'outer')\n",
    "    \n",
    "    # add year column\n",
    "    temp_all_index['year'] = y\n",
    "    \n",
    "    # concat all years\n",
    "    acs5_tract = pd.concat([acs5_tract, temp_all_index], axis = 0)\n",
    "    \n",
    "    print(y)"
   ]
  },
  {
   "cell_type": "code",
   "execution_count": 26,
   "id": "5bae9a28",
   "metadata": {},
   "outputs": [],
   "source": [
    "# Update columns name\n",
    "acs5_tract.rename(columns = acs5_tract_variables_list.set_index('index')['label'], inplace = True)"
   ]
  },
  {
   "cell_type": "code",
   "execution_count": 39,
   "id": "ac732fba",
   "metadata": {},
   "outputs": [],
   "source": [
    "acs5_tract = acs5_tract.loc[:, ~acs5_tract.columns.duplicated()]"
   ]
  },
  {
   "cell_type": "code",
   "execution_count": 40,
   "id": "e4368223",
   "metadata": {},
   "outputs": [],
   "source": [
    "# Export to csv\n",
    "acs5_tract.to_csv('../data/acs5_tract.csv')"
   ]
  },
  {
   "cell_type": "markdown",
   "id": "b378b149",
   "metadata": {},
   "source": [
    "## Decennial"
   ]
  },
  {
   "cell_type": "code",
   "execution_count": null,
   "id": "afadb26d",
   "metadata": {},
   "outputs": [],
   "source": [
    "dec_2010 = pd.read_csv('../data/DECENNIALSF32000.H009-2023-04-17T195749.csv')"
   ]
  },
  {
   "cell_type": "code",
   "execution_count": null,
   "id": "55a01488",
   "metadata": {},
   "outputs": [],
   "source": [
    "dec_2010 = dec_2010.T.reset_index()\n",
    "dec_2010.columns = dec_2010.iloc[0]\n",
    "dec_2010 = dec_2010[1:]\n",
    "dec_2010 = dec_2010.rename(columns = {'Label (Grouping)' : 'label'})"
   ]
  },
  {
   "cell_type": "code",
   "execution_count": null,
   "id": "d6e9a753",
   "metadata": {},
   "outputs": [],
   "source": [
    "dec_2010"
   ]
  },
  {
   "cell_type": "markdown",
   "id": "85add813",
   "metadata": {},
   "source": [
    "## Variables list"
   ]
  },
  {
   "cell_type": "markdown",
   "id": "a34d4737",
   "metadata": {},
   "source": [
    "ACS 5 year Variables"
   ]
  },
  {
   "cell_type": "markdown",
   "id": "a82ab9e0",
   "metadata": {},
   "source": [
    "# get variables.json file\n",
    "endpoint = 'https://api.census.gov/data/2000/dec/sf3profile/variables.json'\n",
    "response = requests.get(endpoint)\n",
    "\n",
    "# convert json to df\n",
    "variables_dec_list = response.json()\n",
    "variables_dec_list = pd.DataFrame(variables_dec_list['variables']).transpose().reset_index()"
   ]
  },
  {
   "cell_type": "markdown",
   "id": "304c6f00",
   "metadata": {},
   "source": [
    "variables_dec_list.loc[variables_dec_list['index'].str.contains('H039')]"
   ]
  },
  {
   "cell_type": "markdown",
   "id": "79eb2c1b",
   "metadata": {},
   "source": [
    "variables_dec_list.loc[variables_dec_list['label'].str.contains('Move')]"
   ]
  },
  {
   "cell_type": "markdown",
   "id": "5da1bf81",
   "metadata": {},
   "source": [
    "# get variables.json file\n",
    "endpoint = 'https://api.census.gov/data/2021/acs/acs5/variables.json'\n",
    "response = requests.get(endpoint)\n",
    "\n",
    "# convert json to df\n",
    "variables_acs5_list = response.json()\n",
    "variables_acs5_list = pd.DataFrame(variables_acs5_list['variables']).transpose().reset_index()"
   ]
  },
  {
   "cell_type": "markdown",
   "id": "efc21eef",
   "metadata": {},
   "source": [
    "variables_list.loc[variables_list['index'].isin(['B02001_001E','B02001_002E','B02001_003E','B02001_004E','B02001_005E','B02001_006E','B02001_007E','B02001_008E','B02001_009E','B02001_010E','B03001_003E'])]"
   ]
  },
  {
   "cell_type": "markdown",
   "id": "ab6f6960",
   "metadata": {},
   "source": [
    "# 1st row of each groups\n",
    "variables_cat = variables_list\\\n",
    "    .sort_values('index')\\\n",
    "    .groupby('group').nth(0)"
   ]
  },
  {
   "cell_type": "markdown",
   "id": "abbf26bf",
   "metadata": {},
   "source": [
    "income 19  x\n",
    "race 02 X\n",
    "household type B09019 X\n",
    "Educational Attainment B15003 x\n",
    "occupation industry C24010 (full time over 16) x\n",
    "Family Type by Presence and Age of Own Children B11003 D\n",
    "Household Type by Household Size B11016 D\n",
    "Housing Units B25001 X\n",
    "Occupancy Status B25002 X\n",
    "Tenure B25003 X\n",
    "Total Population in Occupied Housing Units by Tenure by Year Householder Moved Into Unit B25026 NOT AVAILABLE\n",
    "housing Value B25075 x\n",
    "Lower Value Quartile (Dollars) B25076 x\n",
    "Median Value (Dollars) B25077 x \n",
    "Upper Value Quartile (Dollars) B25078 x\n",
    "Mortgage Status and Selected Monthly Owner Costs B25087\n",
    "Median Contract Rent (Dollars) B25058\n",
    "Median Selected Monthly Owner Costs as a Percentage of Household Income B25092\n",
    "Family Income B19101"
   ]
  },
  {
   "cell_type": "markdown",
   "id": "06eb6956",
   "metadata": {},
   "source": [
    "# create empty DataFrame\n",
    "res = pd.DataFrame()\n",
    "\n",
    "\n",
    "for y in range(2009, 2020+1) : \n",
    "\n",
    "    c = Census(credentials['census'], year = y)\n",
    "    temp = c.acs5.state_county_tract((variables), states.TN.fips, '037', Census.ALL)\n",
    "    \n",
    "    # save data to temp_df\n",
    "    temp = pd.DataFrame(temp)\n",
    "    temp['year'] = y\n",
    "    temp['geoid'] = temp['state'].str.cat(temp[['county', 'tract', 'block group']])\n",
    "    temp = temp.drop(columns = ['state', 'county', 'tract', 'block group'])\n",
    "\n",
    "    # add temp_df to res_df\n",
    "    ref = pd.concat([ref, temp])\n",
    "    \n",
    "    print(y)"
   ]
  }
 ],
 "metadata": {
  "kernelspec": {
   "display_name": "Python 3 (ipykernel)",
   "language": "python",
   "name": "python3"
  },
  "language_info": {
   "codemirror_mode": {
    "name": "ipython",
    "version": 3
   },
   "file_extension": ".py",
   "mimetype": "text/x-python",
   "name": "python",
   "nbconvert_exporter": "python",
   "pygments_lexer": "ipython3",
   "version": "3.8.5"
  }
 },
 "nbformat": 4,
 "nbformat_minor": 5
}
